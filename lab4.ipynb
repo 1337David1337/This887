{
  "nbformat": 4,
  "nbformat_minor": 0,
  "metadata": {
    "colab": {
      "provenance": [],
      "gpuType": "T4",
      "authorship_tag": "ABX9TyM7DRzHNdTrvJY4rUcS/O++",
      "include_colab_link": true
    },
    "kernelspec": {
      "name": "python3",
      "display_name": "Python 3"
    },
    "language_info": {
      "name": "python"
    },
    "accelerator": "GPU"
  },
  "cells": [
    {
      "cell_type": "markdown",
      "metadata": {
        "id": "view-in-github",
        "colab_type": "text"
      },
      "source": [
        "<a href=\"https://colab.research.google.com/github/1337David1337/This887/blob/master/lab4.ipynb\" target=\"_parent\"><img src=\"https://colab.research.google.com/assets/colab-badge.svg\" alt=\"Open In Colab\"/></a>"
      ]
    },
    {
      "cell_type": "code",
      "execution_count": 1,
      "metadata": {
        "colab": {
          "base_uri": "https://localhost:8080/",
          "height": 36
        },
        "id": "CJfIll1R51qL",
        "outputId": "57f88dd1-f9f2-4fab-9f01-58c6fc43c01c"
      },
      "outputs": [
        {
          "output_type": "execute_result",
          "data": {
            "text/plain": [
              "'/device:GPU:0'"
            ],
            "application/vnd.google.colaboratory.intrinsic+json": {
              "type": "string"
            }
          },
          "metadata": {},
          "execution_count": 1
        }
      ],
      "source": [
        "import tensorflow as tf \n",
        "tf.test.gpu_device_name()\n"
      ]
    },
    {
      "cell_type": "code",
      "source": [
        "import pandas as pd \n",
        "import keras as ks \n",
        "!pip install -q seaborn \n",
        "# при необходимости \n",
        "import matplotlib.pyplot as plt \n",
        "import seaborn as sns \n"
      ],
      "metadata": {
        "id": "GeF_igEs6UK4"
      },
      "execution_count": 12,
      "outputs": []
    },
    {
      "cell_type": "code",
      "source": [
        "from sklearn.datasets import load_breast_cancer \n",
        "data = load_breast_cancer()\n",
        "\n",
        "import numpy as np\n",
        "from sklearn.model_selection import train_test_split \n",
        "x,y = load_breast_cancer(return_X_y=True) \n",
        "X_train, X_test, y_train, y_test = train_test_split(x, y, test_size=0.4, random_state=True) \n"
      ],
      "metadata": {
        "id": "N-tUkoF26lsQ"
      },
      "execution_count": 2,
      "outputs": []
    },
    {
      "cell_type": "code",
      "source": [
        "from keras.models import Sequential \n",
        "from keras.layers import Dense \n",
        "classifier = Sequential() # Инициализация НС\n",
        "classifier.add(Dense(units = 16, activation = 'relu', input_dim = 30)) \n",
        "classifier.add(Dense(units = 8, activation = 'relu')) \n",
        "classifier.add(Dense(units = 6, activation = 'relu')) \n",
        "classifier.add(Dense(units = 1, activation = 'sigmoid'))  \n"
      ],
      "metadata": {
        "id": "aH5UpZC97lNx"
      },
      "execution_count": 14,
      "outputs": []
    },
    {
      "cell_type": "code",
      "source": [
        "classifier.compile(optimizer = 'rmsprop', loss = 'binary_crossentropy')\n",
        "classifier.fit(X_train, y_train, batch_size = 1, epochs = 85) "
      ],
      "metadata": {
        "colab": {
          "base_uri": "https://localhost:8080/"
        },
        "id": "QhlEJNWX7mF3",
        "outputId": "ad41634d-0a45-4ee5-d571-866c359cda88"
      },
      "execution_count": 15,
      "outputs": [
        {
          "output_type": "stream",
          "name": "stdout",
          "text": [
            "Epoch 1/85\n",
            "341/341 [==============================] - 5s 6ms/step - loss: 3.3994\n",
            "Epoch 2/85\n",
            "341/341 [==============================] - 2s 5ms/step - loss: 0.5942\n",
            "Epoch 3/85\n",
            "341/341 [==============================] - 2s 5ms/step - loss: 0.4291\n",
            "Epoch 4/85\n",
            "341/341 [==============================] - 1s 4ms/step - loss: 0.4412\n",
            "Epoch 5/85\n",
            "341/341 [==============================] - 2s 4ms/step - loss: 0.4762\n",
            "Epoch 6/85\n",
            "341/341 [==============================] - 1s 4ms/step - loss: 0.3551\n",
            "Epoch 7/85\n",
            "341/341 [==============================] - 1s 3ms/step - loss: 0.3316\n",
            "Epoch 8/85\n",
            "341/341 [==============================] - 1s 4ms/step - loss: 0.3200\n",
            "Epoch 9/85\n",
            "341/341 [==============================] - 1s 4ms/step - loss: 0.3749\n",
            "Epoch 10/85\n",
            "341/341 [==============================] - 1s 3ms/step - loss: 0.3317\n",
            "Epoch 11/85\n",
            "341/341 [==============================] - 1s 3ms/step - loss: 0.3249\n",
            "Epoch 12/85\n",
            "341/341 [==============================] - 1s 3ms/step - loss: 0.3385\n",
            "Epoch 13/85\n",
            "341/341 [==============================] - 1s 3ms/step - loss: 0.3311\n",
            "Epoch 14/85\n",
            "341/341 [==============================] - 1s 3ms/step - loss: 0.3530\n",
            "Epoch 15/85\n",
            "341/341 [==============================] - 1s 3ms/step - loss: 0.3353\n",
            "Epoch 16/85\n",
            "341/341 [==============================] - 1s 3ms/step - loss: 0.3626\n",
            "Epoch 17/85\n",
            "341/341 [==============================] - 1s 3ms/step - loss: 0.3046\n",
            "Epoch 18/85\n",
            "341/341 [==============================] - 1s 3ms/step - loss: 0.2755\n",
            "Epoch 19/85\n",
            "341/341 [==============================] - 1s 3ms/step - loss: 0.3504\n",
            "Epoch 20/85\n",
            "341/341 [==============================] - 1s 3ms/step - loss: 0.2560\n",
            "Epoch 21/85\n",
            "341/341 [==============================] - 1s 4ms/step - loss: 0.2861\n",
            "Epoch 22/85\n",
            "341/341 [==============================] - 1s 3ms/step - loss: 0.2558\n",
            "Epoch 23/85\n",
            "341/341 [==============================] - 1s 3ms/step - loss: 0.3100\n",
            "Epoch 24/85\n",
            "341/341 [==============================] - 1s 3ms/step - loss: 0.3087\n",
            "Epoch 25/85\n",
            "341/341 [==============================] - 1s 3ms/step - loss: 0.2702\n",
            "Epoch 26/85\n",
            "341/341 [==============================] - 1s 3ms/step - loss: 0.2322\n",
            "Epoch 27/85\n",
            "341/341 [==============================] - 1s 3ms/step - loss: 0.2757\n",
            "Epoch 28/85\n",
            "341/341 [==============================] - 1s 3ms/step - loss: 0.2423\n",
            "Epoch 29/85\n",
            "341/341 [==============================] - 1s 3ms/step - loss: 0.2616\n",
            "Epoch 30/85\n",
            "341/341 [==============================] - 1s 3ms/step - loss: 0.3268\n",
            "Epoch 31/85\n",
            "341/341 [==============================] - 1s 3ms/step - loss: 0.2362\n",
            "Epoch 32/85\n",
            "341/341 [==============================] - 1s 3ms/step - loss: 0.2604\n",
            "Epoch 33/85\n",
            "341/341 [==============================] - 1s 4ms/step - loss: 0.3545\n",
            "Epoch 34/85\n",
            "341/341 [==============================] - 1s 4ms/step - loss: 0.2872\n",
            "Epoch 35/85\n",
            "341/341 [==============================] - 1s 3ms/step - loss: 0.2772\n",
            "Epoch 36/85\n",
            "341/341 [==============================] - 1s 3ms/step - loss: 0.2387\n",
            "Epoch 37/85\n",
            "341/341 [==============================] - 1s 3ms/step - loss: 0.2750\n",
            "Epoch 38/85\n",
            "341/341 [==============================] - 1s 3ms/step - loss: 0.3470\n",
            "Epoch 39/85\n",
            "341/341 [==============================] - 1s 3ms/step - loss: 0.2837\n",
            "Epoch 40/85\n",
            "341/341 [==============================] - 1s 3ms/step - loss: 0.3229\n",
            "Epoch 41/85\n",
            "341/341 [==============================] - 1s 3ms/step - loss: 0.2774\n",
            "Epoch 42/85\n",
            "341/341 [==============================] - 1s 3ms/step - loss: 0.2905\n",
            "Epoch 43/85\n",
            "341/341 [==============================] - 1s 3ms/step - loss: 0.2660\n",
            "Epoch 44/85\n",
            "341/341 [==============================] - 1s 3ms/step - loss: 0.3067\n",
            "Epoch 45/85\n",
            "341/341 [==============================] - 1s 3ms/step - loss: 0.3206\n",
            "Epoch 46/85\n",
            "341/341 [==============================] - 1s 4ms/step - loss: 0.3705\n",
            "Epoch 47/85\n",
            "341/341 [==============================] - 1s 4ms/step - loss: 0.2964\n",
            "Epoch 48/85\n",
            "341/341 [==============================] - 1s 3ms/step - loss: 0.2484\n",
            "Epoch 49/85\n",
            "341/341 [==============================] - 1s 3ms/step - loss: 0.3041\n",
            "Epoch 50/85\n",
            "341/341 [==============================] - 1s 3ms/step - loss: 0.2814\n",
            "Epoch 51/85\n",
            "341/341 [==============================] - 1s 3ms/step - loss: 0.3524\n",
            "Epoch 52/85\n",
            "341/341 [==============================] - 1s 3ms/step - loss: 0.2650\n",
            "Epoch 53/85\n",
            "341/341 [==============================] - 1s 3ms/step - loss: 0.3623\n",
            "Epoch 54/85\n",
            "341/341 [==============================] - 1s 3ms/step - loss: 0.3342\n",
            "Epoch 55/85\n",
            "341/341 [==============================] - 1s 3ms/step - loss: 0.2831\n",
            "Epoch 56/85\n",
            "341/341 [==============================] - 1s 3ms/step - loss: 0.2745\n",
            "Epoch 57/85\n",
            "341/341 [==============================] - 1s 3ms/step - loss: 0.2838\n",
            "Epoch 58/85\n",
            "341/341 [==============================] - 1s 3ms/step - loss: 0.3079\n",
            "Epoch 59/85\n",
            "341/341 [==============================] - 1s 4ms/step - loss: 0.2589\n",
            "Epoch 60/85\n",
            "341/341 [==============================] - 1s 3ms/step - loss: 0.2625\n",
            "Epoch 61/85\n",
            "341/341 [==============================] - 1s 3ms/step - loss: 0.3592\n",
            "Epoch 62/85\n",
            "341/341 [==============================] - 1s 3ms/step - loss: 0.2224\n",
            "Epoch 63/85\n",
            "341/341 [==============================] - 1s 3ms/step - loss: 0.3094\n",
            "Epoch 64/85\n",
            "341/341 [==============================] - 1s 3ms/step - loss: 0.2818\n",
            "Epoch 65/85\n",
            "341/341 [==============================] - 1s 3ms/step - loss: 0.4533\n",
            "Epoch 66/85\n",
            "341/341 [==============================] - 1s 3ms/step - loss: 0.4034\n",
            "Epoch 67/85\n",
            "341/341 [==============================] - 1s 3ms/step - loss: 0.3258\n",
            "Epoch 68/85\n",
            "341/341 [==============================] - 1s 3ms/step - loss: 0.2588\n",
            "Epoch 69/85\n",
            "341/341 [==============================] - 1s 3ms/step - loss: 0.3056\n",
            "Epoch 70/85\n",
            "341/341 [==============================] - 1s 3ms/step - loss: 0.2202\n",
            "Epoch 71/85\n",
            "341/341 [==============================] - 1s 4ms/step - loss: 0.2261\n",
            "Epoch 72/85\n",
            "341/341 [==============================] - 1s 3ms/step - loss: 0.2620\n",
            "Epoch 73/85\n",
            "341/341 [==============================] - 1s 3ms/step - loss: 0.3532\n",
            "Epoch 74/85\n",
            "341/341 [==============================] - 1s 3ms/step - loss: 0.3238\n",
            "Epoch 75/85\n",
            "341/341 [==============================] - 1s 3ms/step - loss: 0.2983\n",
            "Epoch 76/85\n",
            "341/341 [==============================] - 1s 3ms/step - loss: 0.2696\n",
            "Epoch 77/85\n",
            "341/341 [==============================] - 1s 3ms/step - loss: 0.2827\n",
            "Epoch 78/85\n",
            "341/341 [==============================] - 1s 3ms/step - loss: 0.3514\n",
            "Epoch 79/85\n",
            "341/341 [==============================] - 1s 3ms/step - loss: 0.2476\n",
            "Epoch 80/85\n",
            "341/341 [==============================] - 1s 3ms/step - loss: 0.3811\n",
            "Epoch 81/85\n",
            "341/341 [==============================] - 1s 3ms/step - loss: 0.2461\n",
            "Epoch 82/85\n",
            "341/341 [==============================] - 1s 3ms/step - loss: 0.2459\n",
            "Epoch 83/85\n",
            "341/341 [==============================] - 1s 4ms/step - loss: 0.2626\n",
            "Epoch 84/85\n",
            "341/341 [==============================] - 1s 4ms/step - loss: 0.2678\n",
            "Epoch 85/85\n",
            "341/341 [==============================] - 1s 3ms/step - loss: 0.4217\n"
          ]
        },
        {
          "output_type": "execute_result",
          "data": {
            "text/plain": [
              "<keras.callbacks.History at 0x7f1a390b0fd0>"
            ]
          },
          "metadata": {},
          "execution_count": 15
        }
      ]
    },
    {
      "cell_type": "markdown",
      "source": [
        "Количество эпох = 85\\\n",
        "Время, которое потребовалось на обучение НС = 1:32.32\\\n",
        "Значение функции ошибки для последней эпохи \n",
        "loss: 0.4217"
      ],
      "metadata": {
        "id": "jckUd3YJ8604"
      }
    },
    {
      "cell_type": "code",
      "source": [
        "Y_pred = classifier.predict(X_test) # подаём на вход обученной НС тестовый набор данных \n",
        "Y_pred = [ 1 if y>=0.5 else 0 for y in Y_pred ] \n",
        "\n",
        "\n",
        "total = 0\n",
        "correct = 0\n",
        "wrong = 0\n",
        "for i in range(len(Y_pred)):\n",
        " total=total+1\n",
        " if(str(y_test[i]) == str(Y_pred[i])):\n",
        "  correct=correct+1\n",
        " else:\n",
        "  wrong=wrong+1\n",
        "\n",
        "print(\"Total \" + str(total))\n",
        "print(\"Correct \" + str(correct))\n",
        "print(\"Wrong \" + str(wrong))\n"
      ],
      "metadata": {
        "colab": {
          "base_uri": "https://localhost:8080/"
        },
        "id": "ByVWMF779oqw",
        "outputId": "9073c596-9c10-4f66-876d-dfca26a74115"
      },
      "execution_count": 16,
      "outputs": [
        {
          "output_type": "stream",
          "name": "stdout",
          "text": [
            "8/8 [==============================] - 0s 3ms/step\n",
            "Total 228\n",
            "Correct 180\n",
            "Wrong 48\n"
          ]
        }
      ]
    },
    {
      "cell_type": "code",
      "source": [
        "from keras.models import Sequential \n",
        "from keras.layers import Dense \n",
        "classifier = Sequential() # Инициализация НС\n",
        "classifier.add(Dense(units = 32, activation = 'relu', input_dim = 30)) \n",
        "classifier.add(Dense(units = 16, activation = 'relu')) \n",
        "classifier.add(Dense(units = 12, activation = 'relu')) \n",
        "classifier.add(Dense(units = 1, activation = 'sigmoid'))  \n",
        "classifier.compile(optimizer = 'rmsprop', loss = 'binary_crossentropy')\n",
        "classifier.fit(X_train, y_train, batch_size = 1, epochs = 40) \n",
        "#1:22 мин\n",
        "#иное количество нейронов\n",
        "#1s 3ms/step - loss: 0.4835\n",
        "#40 эпох"
      ],
      "metadata": {
        "colab": {
          "base_uri": "https://localhost:8080/"
        },
        "id": "oKUIGub0ELUP",
        "outputId": "3dcefb78-1f1b-4942-d370-ef11eea77113"
      },
      "execution_count": 3,
      "outputs": [
        {
          "output_type": "stream",
          "name": "stdout",
          "text": [
            "Epoch 1/40\n",
            "341/341 [==============================] - 3s 3ms/step - loss: 7.4057\n",
            "Epoch 2/40\n",
            "341/341 [==============================] - 1s 3ms/step - loss: 1.7322\n",
            "Epoch 3/40\n",
            "341/341 [==============================] - 1s 3ms/step - loss: 1.5232\n",
            "Epoch 4/40\n",
            "341/341 [==============================] - 1s 3ms/step - loss: 1.1487\n",
            "Epoch 5/40\n",
            "341/341 [==============================] - 1s 3ms/step - loss: 0.5855\n",
            "Epoch 6/40\n",
            "341/341 [==============================] - 1s 3ms/step - loss: 0.8349\n",
            "Epoch 7/40\n",
            "341/341 [==============================] - 1s 3ms/step - loss: 0.4914\n",
            "Epoch 8/40\n",
            "341/341 [==============================] - 1s 4ms/step - loss: 0.5418\n",
            "Epoch 9/40\n",
            "341/341 [==============================] - 1s 4ms/step - loss: 0.4518\n",
            "Epoch 10/40\n",
            "341/341 [==============================] - 1s 3ms/step - loss: 0.5645\n",
            "Epoch 11/40\n",
            "341/341 [==============================] - 1s 3ms/step - loss: 0.5572\n",
            "Epoch 12/40\n",
            "341/341 [==============================] - 1s 3ms/step - loss: 0.4659\n",
            "Epoch 13/40\n",
            "341/341 [==============================] - 1s 3ms/step - loss: 0.5674\n",
            "Epoch 14/40\n",
            "341/341 [==============================] - 1s 3ms/step - loss: 0.5053\n",
            "Epoch 15/40\n",
            "341/341 [==============================] - 1s 3ms/step - loss: 0.6585\n",
            "Epoch 16/40\n",
            "341/341 [==============================] - 1s 3ms/step - loss: 0.6762\n",
            "Epoch 17/40\n",
            "341/341 [==============================] - 1s 3ms/step - loss: 0.4283\n",
            "Epoch 18/40\n",
            "341/341 [==============================] - 1s 3ms/step - loss: 0.5357\n",
            "Epoch 19/40\n",
            "341/341 [==============================] - 1s 3ms/step - loss: 0.4562\n",
            "Epoch 20/40\n",
            "341/341 [==============================] - 1s 4ms/step - loss: 0.3877\n",
            "Epoch 21/40\n",
            "341/341 [==============================] - 1s 4ms/step - loss: 0.3732\n",
            "Epoch 22/40\n",
            "341/341 [==============================] - 1s 3ms/step - loss: 0.5221\n",
            "Epoch 23/40\n",
            "341/341 [==============================] - 1s 3ms/step - loss: 0.3733\n",
            "Epoch 24/40\n",
            "341/341 [==============================] - 1s 3ms/step - loss: 0.4795\n",
            "Epoch 25/40\n",
            "341/341 [==============================] - 1s 3ms/step - loss: 0.4479\n",
            "Epoch 26/40\n",
            "341/341 [==============================] - 1s 3ms/step - loss: 0.4109\n",
            "Epoch 27/40\n",
            "341/341 [==============================] - 1s 3ms/step - loss: 0.4899\n",
            "Epoch 28/40\n",
            "341/341 [==============================] - 1s 3ms/step - loss: 0.4745\n",
            "Epoch 29/40\n",
            "341/341 [==============================] - 1s 3ms/step - loss: 0.4187\n",
            "Epoch 30/40\n",
            "341/341 [==============================] - 1s 3ms/step - loss: 0.4365\n",
            "Epoch 31/40\n",
            "341/341 [==============================] - 1s 3ms/step - loss: 0.6302\n",
            "Epoch 32/40\n",
            "341/341 [==============================] - 1s 3ms/step - loss: 0.5400\n",
            "Epoch 33/40\n",
            "341/341 [==============================] - 2s 5ms/step - loss: 0.6660\n",
            "Epoch 34/40\n",
            "341/341 [==============================] - 2s 5ms/step - loss: 0.7174\n",
            "Epoch 35/40\n",
            "341/341 [==============================] - 1s 3ms/step - loss: 0.7050\n",
            "Epoch 36/40\n",
            "341/341 [==============================] - 1s 3ms/step - loss: 0.7225\n",
            "Epoch 37/40\n",
            "341/341 [==============================] - 1s 3ms/step - loss: 0.5559\n",
            "Epoch 38/40\n",
            "341/341 [==============================] - 1s 3ms/step - loss: 0.5623\n",
            "Epoch 39/40\n",
            "341/341 [==============================] - 1s 3ms/step - loss: 0.5599\n",
            "Epoch 40/40\n",
            "341/341 [==============================] - 1s 3ms/step - loss: 0.4835\n"
          ]
        },
        {
          "output_type": "execute_result",
          "data": {
            "text/plain": [
              "<keras.callbacks.History at 0x7f298cc87ac0>"
            ]
          },
          "metadata": {},
          "execution_count": 3
        }
      ]
    },
    {
      "cell_type": "code",
      "source": [
        "from keras.models import Sequential \n",
        "from keras.layers import Dense \n",
        "classifier = Sequential() # Инициализация НС\n",
        "classifier.add(Dense(units = 32, activation = 'relu', input_dim = 30)) \n",
        "classifier.add(Dense(units = 16, activation = 'relu')) \n",
        "classifier.add(Dense(units = 12, activation = 'relu')) \n",
        "classifier.add(Dense(units = 8, activation = 'relu')) \n",
        "classifier.add(Dense(units = 1, activation = 'sigmoid'))  \n",
        "classifier.compile(optimizer = 'rmsprop', loss = 'binary_crossentropy')\n",
        "classifier.fit(X_train, y_train, batch_size = 1, epochs = 40) \n",
        "#44 секунды\n",
        "#иное количество слоев\n",
        "#1s 3ms/step - loss: 0.2842\n",
        "#40 эпох"
      ],
      "metadata": {
        "colab": {
          "base_uri": "https://localhost:8080/"
        },
        "id": "tFkTpYmfJkzk",
        "outputId": "3220ff34-374a-4b05-eeb2-c162d2cecb87"
      },
      "execution_count": 4,
      "outputs": [
        {
          "output_type": "stream",
          "name": "stdout",
          "text": [
            "Epoch 1/40\n",
            "341/341 [==============================] - 2s 3ms/step - loss: 1.2619\n",
            "Epoch 2/40\n",
            "341/341 [==============================] - 1s 4ms/step - loss: 0.9446\n",
            "Epoch 3/40\n",
            "341/341 [==============================] - 1s 4ms/step - loss: 0.9231\n",
            "Epoch 4/40\n",
            "341/341 [==============================] - 1s 3ms/step - loss: 0.8144\n",
            "Epoch 5/40\n",
            "341/341 [==============================] - 1s 3ms/step - loss: 0.7039\n",
            "Epoch 6/40\n",
            "341/341 [==============================] - 1s 3ms/step - loss: 0.4812\n",
            "Epoch 7/40\n",
            "341/341 [==============================] - 1s 3ms/step - loss: 0.4703\n",
            "Epoch 8/40\n",
            "341/341 [==============================] - 1s 3ms/step - loss: 0.3960\n",
            "Epoch 9/40\n",
            "341/341 [==============================] - 1s 3ms/step - loss: 0.3291\n",
            "Epoch 10/40\n",
            "341/341 [==============================] - 1s 3ms/step - loss: 0.3651\n",
            "Epoch 11/40\n",
            "341/341 [==============================] - 1s 3ms/step - loss: 0.3468\n",
            "Epoch 12/40\n",
            "341/341 [==============================] - 1s 3ms/step - loss: 0.3199\n",
            "Epoch 13/40\n",
            "341/341 [==============================] - 1s 3ms/step - loss: 0.3733\n",
            "Epoch 14/40\n",
            "341/341 [==============================] - 1s 4ms/step - loss: 0.3185\n",
            "Epoch 15/40\n",
            "341/341 [==============================] - 1s 4ms/step - loss: 0.3686\n",
            "Epoch 16/40\n",
            "341/341 [==============================] - 1s 3ms/step - loss: 0.3184\n",
            "Epoch 17/40\n",
            "341/341 [==============================] - 1s 3ms/step - loss: 0.2972\n",
            "Epoch 18/40\n",
            "341/341 [==============================] - 1s 3ms/step - loss: 0.3405\n",
            "Epoch 19/40\n",
            "341/341 [==============================] - 1s 3ms/step - loss: 0.3318\n",
            "Epoch 20/40\n",
            "341/341 [==============================] - 1s 3ms/step - loss: 0.3313\n",
            "Epoch 21/40\n",
            "341/341 [==============================] - 1s 3ms/step - loss: 0.2825\n",
            "Epoch 22/40\n",
            "341/341 [==============================] - 1s 3ms/step - loss: 0.3571\n",
            "Epoch 23/40\n",
            "341/341 [==============================] - 1s 3ms/step - loss: 0.3188\n",
            "Epoch 24/40\n",
            "341/341 [==============================] - 1s 3ms/step - loss: 0.3577\n",
            "Epoch 25/40\n",
            "341/341 [==============================] - 1s 3ms/step - loss: 0.3317\n",
            "Epoch 26/40\n",
            "341/341 [==============================] - 1s 4ms/step - loss: 0.2864\n",
            "Epoch 27/40\n",
            "341/341 [==============================] - 1s 4ms/step - loss: 0.2920\n",
            "Epoch 28/40\n",
            "341/341 [==============================] - 1s 3ms/step - loss: 0.3123\n",
            "Epoch 29/40\n",
            "341/341 [==============================] - 1s 3ms/step - loss: 0.2959\n",
            "Epoch 30/40\n",
            "341/341 [==============================] - 2s 4ms/step - loss: 0.3469\n",
            "Epoch 31/40\n",
            "341/341 [==============================] - 1s 3ms/step - loss: 0.2865\n",
            "Epoch 32/40\n",
            "341/341 [==============================] - 1s 3ms/step - loss: 0.2626\n",
            "Epoch 33/40\n",
            "341/341 [==============================] - 1s 3ms/step - loss: 0.2859\n",
            "Epoch 34/40\n",
            "341/341 [==============================] - 1s 3ms/step - loss: 0.3250\n",
            "Epoch 35/40\n",
            "341/341 [==============================] - 1s 3ms/step - loss: 0.2689\n",
            "Epoch 36/40\n",
            "341/341 [==============================] - 1s 3ms/step - loss: 0.2971\n",
            "Epoch 37/40\n",
            "341/341 [==============================] - 1s 4ms/step - loss: 0.3283\n",
            "Epoch 38/40\n",
            "341/341 [==============================] - 1s 4ms/step - loss: 0.2958\n",
            "Epoch 39/40\n",
            "341/341 [==============================] - 1s 3ms/step - loss: 0.2644\n",
            "Epoch 40/40\n",
            "341/341 [==============================] - 1s 3ms/step - loss: 0.2842\n"
          ]
        },
        {
          "output_type": "execute_result",
          "data": {
            "text/plain": [
              "<keras.callbacks.History at 0x7f2982bbe470>"
            ]
          },
          "metadata": {},
          "execution_count": 4
        }
      ]
    },
    {
      "cell_type": "code",
      "source": [
        "from keras.models import Sequential \n",
        "from keras.layers import Dense \n",
        "classifier = Sequential() # Инициализация НС\n",
        "classifier.add(Dense(units = 16, activation = 'tanh', input_dim = 30)) \n",
        "classifier.add(Dense(units = 8, activation = 'tanh')) \n",
        "classifier.add(Dense(units = 6, activation = 'tanh')) \n",
        "classifier.add(Dense(units = 1, activation = 'sigmoid'))  \n",
        "classifier.compile(optimizer = 'rmsprop', loss = 'binary_crossentropy')\n",
        "classifier.fit(X_train, y_train, batch_size = 1, epochs = 40) \n",
        "#1:22 мин\n",
        "#иные функции\n",
        "#1s 3ms/step - loss: 0.3003\n",
        "#40 эпох"
      ],
      "metadata": {
        "colab": {
          "base_uri": "https://localhost:8080/"
        },
        "id": "p29bQb1xKItE",
        "outputId": "1d854ce9-0a48-4f37-f4a9-0509f0209866"
      },
      "execution_count": 5,
      "outputs": [
        {
          "output_type": "stream",
          "name": "stdout",
          "text": [
            "Epoch 1/40\n",
            "341/341 [==============================] - 2s 3ms/step - loss: 0.5679\n",
            "Epoch 2/40\n",
            "341/341 [==============================] - 1s 3ms/step - loss: 0.3812\n",
            "Epoch 3/40\n",
            "341/341 [==============================] - 1s 3ms/step - loss: 0.3753\n",
            "Epoch 4/40\n",
            "341/341 [==============================] - 1s 4ms/step - loss: 0.3468\n",
            "Epoch 5/40\n",
            "341/341 [==============================] - 1s 3ms/step - loss: 0.3611\n",
            "Epoch 6/40\n",
            "341/341 [==============================] - 1s 3ms/step - loss: 0.3659\n",
            "Epoch 7/40\n",
            "341/341 [==============================] - 1s 3ms/step - loss: 0.3583\n",
            "Epoch 8/40\n",
            "341/341 [==============================] - 1s 3ms/step - loss: 0.3634\n",
            "Epoch 9/40\n",
            "341/341 [==============================] - 1s 3ms/step - loss: 0.3672\n",
            "Epoch 10/40\n",
            "341/341 [==============================] - 1s 3ms/step - loss: 0.3454\n",
            "Epoch 11/40\n",
            "341/341 [==============================] - 1s 3ms/step - loss: 0.3692\n",
            "Epoch 12/40\n",
            "341/341 [==============================] - 1s 3ms/step - loss: 0.3767\n",
            "Epoch 13/40\n",
            "341/341 [==============================] - 1s 3ms/step - loss: 0.3145\n",
            "Epoch 14/40\n",
            "341/341 [==============================] - 1s 3ms/step - loss: 0.3270\n",
            "Epoch 15/40\n",
            "341/341 [==============================] - 1s 3ms/step - loss: 0.3469\n",
            "Epoch 16/40\n",
            "341/341 [==============================] - 1s 4ms/step - loss: 0.3620\n",
            "Epoch 17/40\n",
            "341/341 [==============================] - 1s 4ms/step - loss: 0.3499\n",
            "Epoch 18/40\n",
            "341/341 [==============================] - 1s 3ms/step - loss: 0.3372\n",
            "Epoch 19/40\n",
            "341/341 [==============================] - 1s 3ms/step - loss: 0.3479\n",
            "Epoch 20/40\n",
            "341/341 [==============================] - 1s 3ms/step - loss: 0.3421\n",
            "Epoch 21/40\n",
            "341/341 [==============================] - 1s 3ms/step - loss: 0.3286\n",
            "Epoch 22/40\n",
            "341/341 [==============================] - 1s 3ms/step - loss: 0.3463\n",
            "Epoch 23/40\n",
            "341/341 [==============================] - 1s 3ms/step - loss: 0.3257\n",
            "Epoch 24/40\n",
            "341/341 [==============================] - 1s 3ms/step - loss: 0.3657\n",
            "Epoch 25/40\n",
            "341/341 [==============================] - 1s 3ms/step - loss: 0.3468\n",
            "Epoch 26/40\n",
            "341/341 [==============================] - 1s 3ms/step - loss: 0.3419\n",
            "Epoch 27/40\n",
            "341/341 [==============================] - 1s 3ms/step - loss: 0.3199\n",
            "Epoch 28/40\n",
            "341/341 [==============================] - 1s 4ms/step - loss: 0.3234\n",
            "Epoch 29/40\n",
            "341/341 [==============================] - 1s 4ms/step - loss: 0.3333\n",
            "Epoch 30/40\n",
            "341/341 [==============================] - 1s 3ms/step - loss: 0.3340\n",
            "Epoch 31/40\n",
            "341/341 [==============================] - 1s 3ms/step - loss: 0.3226\n",
            "Epoch 32/40\n",
            "341/341 [==============================] - 1s 3ms/step - loss: 0.3382\n",
            "Epoch 33/40\n",
            "341/341 [==============================] - 1s 3ms/step - loss: 0.3265\n",
            "Epoch 34/40\n",
            "341/341 [==============================] - 1s 3ms/step - loss: 0.3055\n",
            "Epoch 35/40\n",
            "341/341 [==============================] - 1s 3ms/step - loss: 0.3470\n",
            "Epoch 36/40\n",
            "341/341 [==============================] - 1s 3ms/step - loss: 0.2906\n",
            "Epoch 37/40\n",
            "341/341 [==============================] - 1s 3ms/step - loss: 0.3232\n",
            "Epoch 38/40\n",
            "341/341 [==============================] - 1s 3ms/step - loss: 0.3250\n",
            "Epoch 39/40\n",
            "341/341 [==============================] - 1s 3ms/step - loss: 0.3339\n",
            "Epoch 40/40\n",
            "341/341 [==============================] - 1s 3ms/step - loss: 0.3003\n"
          ]
        },
        {
          "output_type": "execute_result",
          "data": {
            "text/plain": [
              "<keras.callbacks.History at 0x7f299261e170>"
            ]
          },
          "metadata": {},
          "execution_count": 5
        }
      ]
    }
  ]
}